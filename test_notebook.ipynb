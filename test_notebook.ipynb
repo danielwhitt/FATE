{
  "nbformat": 4,
  "nbformat_minor": 0,
  "metadata": {
    "colab": {
      "provenance": [],
      "authorship_tag": "ABX9TyPhRdUCO7jFohNavOUZ42Md",
      "include_colab_link": true
    },
    "kernelspec": {
      "name": "python3",
      "display_name": "Python 3"
    },
    "language_info": {
      "name": "python"
    }
  },
  "cells": [
    {
      "cell_type": "markdown",
      "metadata": {
        "id": "view-in-github",
        "colab_type": "text"
      },
      "source": [
        "<a href=\"https://colab.research.google.com/github/danielwhitt/FATE/blob/main/test_notebook.ipynb\" target=\"_parent\"><img src=\"https://colab.research.google.com/assets/colab-badge.svg\" alt=\"Open In Colab\"/></a>"
      ]
    },
    {
      "cell_type": "code",
      "execution_count": 7,
      "metadata": {
        "colab": {
          "base_uri": "https://localhost:8080/"
        },
        "id": "LTQnqhSXvgPI",
        "outputId": "e9135eac-d61f-4839-cd08-170b227e6f89"
      },
      "outputs": [
        {
          "output_type": "stream",
          "name": "stdout",
          "text": [
            "[[40. 40. 40. 40. 40.]\n",
            " [40. 40. 40. 40. 40.]\n",
            " [40. 40. 40. 40. 40.]\n",
            " [40. 40. 40. 40. 40.]\n",
            " [40. 40. 40. 40. 40.]]\n"
          ]
        }
      ],
      "source": [
        "import numpy as np\n",
        "y=4*5*np.ones((5,5))\n",
        "print(y*2)"
      ]
    }
  ]
}